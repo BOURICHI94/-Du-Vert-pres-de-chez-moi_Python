{
 "cells": [
  {
   "cell_type": "markdown",
   "metadata": {},
   "source": [
    "# Projet data_management"
   ]
  },
  {
   "cell_type": "code",
   "execution_count": 30,
   "metadata": {},
   "outputs": [],
   "source": [
    "import pandas as pd \n",
    "from pandas_profiling import ProfileReport\n",
    "import matplotlib.pyplot as plt\n",
    "import scipy.stats\n",
    "import statistics\n",
    "from scipy.stats import chi2_contingency\n",
    "from statsmodels.graphics.mosaicplot import mosaic\n",
    "import seaborn as sns; sns.set_theme()\n",
    "import warnings\n",
    "import numpy as np\n",
    "#import pandas_profiling as pp\n",
    "from pandas_profiling import ProfileReport\n",
    "%matplotlib inline\n",
    "import os\n",
    "warnings.filterwarnings('ignore')"
   ]
  },
  {
   "cell_type": "markdown",
   "metadata": {},
   "source": [
    "# Partie 1 : Importation de la base de données."
   ]
  },
  {
   "cell_type": "code",
   "execution_count": 31,
   "metadata": {
    "scrolled": true
   },
   "outputs": [
    {
     "name": "stdout",
     "output_type": "stream",
     "text": [
      "(1605, 10)\n"
     ]
    },
    {
     "data": {
      "text/html": [
       "<div>\n",
       "<style scoped>\n",
       "    .dataframe tbody tr th:only-of-type {\n",
       "        vertical-align: middle;\n",
       "    }\n",
       "\n",
       "    .dataframe tbody tr th {\n",
       "        vertical-align: top;\n",
       "    }\n",
       "\n",
       "    .dataframe thead th {\n",
       "        text-align: right;\n",
       "    }\n",
       "</style>\n",
       "<table border=\"1\" class=\"dataframe\">\n",
       "  <thead>\n",
       "    <tr style=\"text-align: right;\">\n",
       "      <th></th>\n",
       "      <th>Geo_Point</th>\n",
       "      <th>Geo_Shape</th>\n",
       "      <th>Arrondissement</th>\n",
       "      <th>Adresse</th>\n",
       "      <th>Proposition_non_réalisable</th>\n",
       "      <th>Type_de_végétalisation</th>\n",
       "      <th>Etat_de_la_proposition</th>\n",
       "      <th>Numéro</th>\n",
       "      <th>Commentaitre_accompagnant_la_proposition</th>\n",
       "      <th>Avancement_du_projet</th>\n",
       "    </tr>\n",
       "  </thead>\n",
       "  <tbody>\n",
       "    <tr>\n",
       "      <th>0</th>\n",
       "      <td>48.8692119999, 2.3490870004</td>\n",
       "      <td>{\"type\": \"Point\", \"coordinates\": [2.3490870004...</td>\n",
       "      <td>75002</td>\n",
       "      <td>20  Rue Beauregard</td>\n",
       "      <td>la proposition n'a pas été retenue car aucun m...</td>\n",
       "      <td>Mur végétalisé</td>\n",
       "      <td>Propositions non réalisables techniquement</td>\n",
       "      <td>S2014G4006</td>\n",
       "      <td>pas de commentaires</td>\n",
       "      <td>-</td>\n",
       "    </tr>\n",
       "    <tr>\n",
       "      <th>1</th>\n",
       "      <td>48.8689618665, 2.37427555936</td>\n",
       "      <td>{\"type\": \"Point\", \"coordinates\": [2.3742755593...</td>\n",
       "      <td>75011</td>\n",
       "      <td>161 rue saint maur</td>\n",
       "      <td>-</td>\n",
       "      <td>Végétalisation pied arbre</td>\n",
       "      <td>proposition réalisable et retenue dans les 200...</td>\n",
       "      <td>S2014I1623</td>\n",
       "      <td>-</td>\n",
       "      <td>Réalisé</td>\n",
       "    </tr>\n",
       "    <tr>\n",
       "      <th>2</th>\n",
       "      <td>48.8690699999, 2.35324000067</td>\n",
       "      <td>{\"type\": \"Point\", \"coordinates\": [2.3532400006...</td>\n",
       "      <td>75002</td>\n",
       "      <td>Rue Sainte-Apolline</td>\n",
       "      <td>la proposition n'a pas été retenue car le trot...</td>\n",
       "      <td>Plantation d?arbre</td>\n",
       "      <td>Propositions non réalisables techniquement</td>\n",
       "      <td>S2014H741</td>\n",
       "      <td>Un peu de verdure</td>\n",
       "      <td>-</td>\n",
       "    </tr>\n",
       "    <tr>\n",
       "      <th>3</th>\n",
       "      <td>48.8751099999, 2.34304600043</td>\n",
       "      <td>{\"type\": \"Point\", \"coordinates\": [2.3430460004...</td>\n",
       "      <td>75009</td>\n",
       "      <td>9  Rue Cadet</td>\n",
       "      <td>la proposition n'a pas été retenue car elle co...</td>\n",
       "      <td>Autre proposition</td>\n",
       "      <td>Propositions non réalisables techniquement</td>\n",
       "      <td>S2014I4326</td>\n",
       "      <td>Dans le cadre de la campagne du vert près de c...</td>\n",
       "      <td>-</td>\n",
       "    </tr>\n",
       "    <tr>\n",
       "      <th>4</th>\n",
       "      <td>48.8761280001, 2.35524799995</td>\n",
       "      <td>{\"type\": \"Point\", \"coordinates\": [2.3552479999...</td>\n",
       "      <td>75010</td>\n",
       "      <td>5  Cour de la Ferme Saint-Lazare</td>\n",
       "      <td>la proposition n'a pas été retenue car l'espac...</td>\n",
       "      <td>Jardinière en pleine terre</td>\n",
       "      <td>Propositions non réalisables techniquement</td>\n",
       "      <td>S2014G2842</td>\n",
       "      <td>Un pry de verdure . Car il en manque. La dispo...</td>\n",
       "      <td>-</td>\n",
       "    </tr>\n",
       "  </tbody>\n",
       "</table>\n",
       "</div>"
      ],
      "text/plain": [
       "                      Geo_Point  \\\n",
       "0   48.8692119999, 2.3490870004   \n",
       "1  48.8689618665, 2.37427555936   \n",
       "2  48.8690699999, 2.35324000067   \n",
       "3  48.8751099999, 2.34304600043   \n",
       "4  48.8761280001, 2.35524799995   \n",
       "\n",
       "                                           Geo_Shape  Arrondissement  \\\n",
       "0  {\"type\": \"Point\", \"coordinates\": [2.3490870004...           75002   \n",
       "1  {\"type\": \"Point\", \"coordinates\": [2.3742755593...           75011   \n",
       "2  {\"type\": \"Point\", \"coordinates\": [2.3532400006...           75002   \n",
       "3  {\"type\": \"Point\", \"coordinates\": [2.3430460004...           75009   \n",
       "4  {\"type\": \"Point\", \"coordinates\": [2.3552479999...           75010   \n",
       "\n",
       "                            Adresse  \\\n",
       "0                20  Rue Beauregard   \n",
       "1                161 rue saint maur   \n",
       "2               Rue Sainte-Apolline   \n",
       "3                      9  Rue Cadet   \n",
       "4  5  Cour de la Ferme Saint-Lazare   \n",
       "\n",
       "                          Proposition_non_réalisable  \\\n",
       "0  la proposition n'a pas été retenue car aucun m...   \n",
       "1                                                  -   \n",
       "2  la proposition n'a pas été retenue car le trot...   \n",
       "3  la proposition n'a pas été retenue car elle co...   \n",
       "4  la proposition n'a pas été retenue car l'espac...   \n",
       "\n",
       "       Type_de_végétalisation  \\\n",
       "0              Mur végétalisé   \n",
       "1   Végétalisation pied arbre   \n",
       "2          Plantation d?arbre   \n",
       "3           Autre proposition   \n",
       "4  Jardinière en pleine terre   \n",
       "\n",
       "                              Etat_de_la_proposition      Numéro  \\\n",
       "0         Propositions non réalisables techniquement  S2014G4006   \n",
       "1  proposition réalisable et retenue dans les 200...  S2014I1623   \n",
       "2         Propositions non réalisables techniquement   S2014H741   \n",
       "3         Propositions non réalisables techniquement  S2014I4326   \n",
       "4         Propositions non réalisables techniquement  S2014G2842   \n",
       "\n",
       "            Commentaitre_accompagnant_la_proposition Avancement_du_projet  \n",
       "0                                pas de commentaires                    -  \n",
       "1                                                  -              Réalisé  \n",
       "2                                  Un peu de verdure                    -  \n",
       "3  Dans le cadre de la campagne du vert près de c...                    -  \n",
       "4  Un pry de verdure . Car il en manque. La dispo...                    -  "
      ]
     },
     "execution_count": 31,
     "metadata": {},
     "output_type": "execute_result"
    }
   ],
   "source": [
    "DF=pd.read_excel('du-vert-pres-de-chez-moi.xltx')\n",
    "print(DF.shape)\n",
    "DF.head()"
   ]
  },
  {
   "cell_type": "markdown",
   "metadata": {},
   "source": [
    "# Partie 2 : Décrire les données en utilisant des méthodes statistiques."
   ]
  },
  {
   "cell_type": "code",
   "execution_count": 32,
   "metadata": {},
   "outputs": [
    {
     "data": {
      "text/html": [
       "<div>\n",
       "<style scoped>\n",
       "    .dataframe tbody tr th:only-of-type {\n",
       "        vertical-align: middle;\n",
       "    }\n",
       "\n",
       "    .dataframe tbody tr th {\n",
       "        vertical-align: top;\n",
       "    }\n",
       "\n",
       "    .dataframe thead th {\n",
       "        text-align: right;\n",
       "    }\n",
       "</style>\n",
       "<table border=\"1\" class=\"dataframe\">\n",
       "  <thead>\n",
       "    <tr style=\"text-align: right;\">\n",
       "      <th></th>\n",
       "      <th>Geo_Point</th>\n",
       "      <th>Geo_Shape</th>\n",
       "      <th>Adresse</th>\n",
       "      <th>Proposition_non_réalisable</th>\n",
       "      <th>Type_de_végétalisation</th>\n",
       "      <th>Etat_de_la_proposition</th>\n",
       "      <th>Numéro</th>\n",
       "      <th>Commentaitre_accompagnant_la_proposition</th>\n",
       "      <th>Avancement_du_projet</th>\n",
       "    </tr>\n",
       "  </thead>\n",
       "  <tbody>\n",
       "    <tr>\n",
       "      <th>count</th>\n",
       "      <td>1605</td>\n",
       "      <td>1605</td>\n",
       "      <td>1599</td>\n",
       "      <td>1601</td>\n",
       "      <td>1602</td>\n",
       "      <td>1604</td>\n",
       "      <td>1565</td>\n",
       "      <td>1603</td>\n",
       "      <td>1605</td>\n",
       "    </tr>\n",
       "    <tr>\n",
       "      <th>unique</th>\n",
       "      <td>1374</td>\n",
       "      <td>1374</td>\n",
       "      <td>1452</td>\n",
       "      <td>25</td>\n",
       "      <td>27</td>\n",
       "      <td>3</td>\n",
       "      <td>1558</td>\n",
       "      <td>736</td>\n",
       "      <td>5</td>\n",
       "    </tr>\n",
       "    <tr>\n",
       "      <th>top</th>\n",
       "      <td>-90.0, -59.0169768948</td>\n",
       "      <td>{\"type\": \"Point\", \"coordinates\": [-59.01697689...</td>\n",
       "      <td>19  Rue Alphonse Baudin</td>\n",
       "      <td>-</td>\n",
       "      <td>Mur végétalisé</td>\n",
       "      <td>Propositions non réalisables techniquement</td>\n",
       "      <td>Urnes MA</td>\n",
       "      <td>-</td>\n",
       "      <td>-</td>\n",
       "    </tr>\n",
       "    <tr>\n",
       "      <th>freq</th>\n",
       "      <td>43</td>\n",
       "      <td>43</td>\n",
       "      <td>11</td>\n",
       "      <td>510</td>\n",
       "      <td>496</td>\n",
       "      <td>1093</td>\n",
       "      <td>3</td>\n",
       "      <td>510</td>\n",
       "      <td>1396</td>\n",
       "    </tr>\n",
       "  </tbody>\n",
       "</table>\n",
       "</div>"
      ],
      "text/plain": [
       "                    Geo_Point  \\\n",
       "count                    1605   \n",
       "unique                   1374   \n",
       "top     -90.0, -59.0169768948   \n",
       "freq                       43   \n",
       "\n",
       "                                                Geo_Shape  \\\n",
       "count                                                1605   \n",
       "unique                                               1374   \n",
       "top     {\"type\": \"Point\", \"coordinates\": [-59.01697689...   \n",
       "freq                                                   43   \n",
       "\n",
       "                        Adresse Proposition_non_réalisable  \\\n",
       "count                      1599                       1601   \n",
       "unique                     1452                         25   \n",
       "top     19  Rue Alphonse Baudin                          -   \n",
       "freq                         11                        510   \n",
       "\n",
       "       Type_de_végétalisation                      Etat_de_la_proposition  \\\n",
       "count                    1602                                        1604   \n",
       "unique                     27                                           3   \n",
       "top            Mur végétalisé  Propositions non réalisables techniquement   \n",
       "freq                      496                                        1093   \n",
       "\n",
       "          Numéro Commentaitre_accompagnant_la_proposition Avancement_du_projet  \n",
       "count       1565                                     1603                 1605  \n",
       "unique      1558                                      736                    5  \n",
       "top     Urnes MA                                        -                    -  \n",
       "freq           3                                      510                 1396  "
      ]
     },
     "execution_count": 32,
     "metadata": {},
     "output_type": "execute_result"
    }
   ],
   "source": [
    "#Description des variables catégorielles \n",
    "DF.describe(include='O')\n"
   ]
  },
  {
   "cell_type": "code",
   "execution_count": 33,
   "metadata": {},
   "outputs": [
    {
     "name": "stdout",
     "output_type": "stream",
     "text": [
      "<class 'pandas.core.frame.DataFrame'>\n",
      "RangeIndex: 1605 entries, 0 to 1604\n",
      "Data columns (total 10 columns):\n",
      " #   Column                                    Non-Null Count  Dtype \n",
      "---  ------                                    --------------  ----- \n",
      " 0   Geo_Point                                 1605 non-null   object\n",
      " 1   Geo_Shape                                 1605 non-null   object\n",
      " 2   Arrondissement                            1605 non-null   int64 \n",
      " 3   Adresse                                   1599 non-null   object\n",
      " 4   Proposition_non_réalisable                1601 non-null   object\n",
      " 5   Type_de_végétalisation                    1602 non-null   object\n",
      " 6   Etat_de_la_proposition                    1604 non-null   object\n",
      " 7   Numéro                                    1565 non-null   object\n",
      " 8   Commentaitre_accompagnant_la_proposition  1603 non-null   object\n",
      " 9   Avancement_du_projet                      1605 non-null   object\n",
      "dtypes: int64(1), object(9)\n",
      "memory usage: 125.5+ KB\n"
     ]
    }
   ],
   "source": [
    "DF.info()"
   ]
  },
  {
   "cell_type": "code",
   "execution_count": 34,
   "metadata": {},
   "outputs": [
    {
     "data": {
      "text/plain": [
       "Geo_Point                                   object\n",
       "Geo_Shape                                   object\n",
       "Arrondissement                               int64\n",
       "Adresse                                     object\n",
       "Proposition_non_réalisable                  object\n",
       "Type_de_végétalisation                      object\n",
       "Etat_de_la_proposition                      object\n",
       "Numéro                                      object\n",
       "Commentaitre_accompagnant_la_proposition    object\n",
       "Avancement_du_projet                        object\n",
       "dtype: object"
      ]
     },
     "execution_count": 34,
     "metadata": {},
     "output_type": "execute_result"
    }
   ],
   "source": [
    "DF.dtypes"
   ]
  },
  {
   "cell_type": "code",
   "execution_count": 35,
   "metadata": {
    "scrolled": true
   },
   "outputs": [
    {
     "data": {
      "text/plain": [
       "Geo_Point                                    0\n",
       "Geo_Shape                                    0\n",
       "Arrondissement                               0\n",
       "Adresse                                      6\n",
       "Proposition_non_réalisable                   4\n",
       "Type_de_végétalisation                       3\n",
       "Etat_de_la_proposition                       1\n",
       "Numéro                                      40\n",
       "Commentaitre_accompagnant_la_proposition     2\n",
       "Avancement_du_projet                         0\n",
       "dtype: int64"
      ]
     },
     "execution_count": 35,
     "metadata": {},
     "output_type": "execute_result"
    }
   ],
   "source": [
    "DF.isnull().sum()"
   ]
  },
  {
   "cell_type": "code",
   "execution_count": 36,
   "metadata": {},
   "outputs": [
    {
     "data": {
      "text/plain": [
       "0"
      ]
     },
     "execution_count": 36,
     "metadata": {},
     "output_type": "execute_result"
    }
   ],
   "source": [
    "DF.duplicated().sum() # Aucun doublon "
   ]
  },
  {
   "cell_type": "code",
   "execution_count": 37,
   "metadata": {},
   "outputs": [
    {
     "data": {
      "image/png": "[encoded data removed]",
      "text/plain": [
       "<Figure size 432x288 with 1 Axes>"
      ]
     },
     "metadata": {},
     "output_type": "display_data"
    }
   ],
   "source": [
    "#visualisation a partir plt.pie\n",
    "\n",
    "Proposition_values = DF['Etat_de_la_proposition'].value_counts().values\n",
    "Proposition_keys = DF['Etat_de_la_proposition'].value_counts().keys()\n",
    "plt.pie (Proposition_values, labels = Proposition_keys, autopct = '% 1.5f %%')\n",
    "plt.show()"
   ]
  },
  {
   "cell_type": "code",
   "execution_count": 38,
   "metadata": {},
   "outputs": [
    {
     "data": {
      "image/png": "[encoded data removed]",
      "text/plain": [
       "<Figure size 432x288 with 1 Axes>"
      ]
     },
     "metadata": {},
     "output_type": "display_data"
    }
   ],
   "source": [
    "avancement_values = DF['Avancement_du_projet'].value_counts().values\n",
    "avancement_keys = DF['Avancement_du_projet'].value_counts().keys()\n",
    "plt.pie (avancement_values, labels = avancement_keys, autopct = '% 1.1f %%')\n",
    "plt.show()"
   ]
  },
  {
   "cell_type": "code",
   "execution_count": 39,
   "metadata": {},
   "outputs": [
    {
     "data": {
      "text/plain": [
       "<AxesSubplot:>"
      ]
     },
     "execution_count": 39,
     "metadata": {},
     "output_type": "execute_result"
    },
    {
     "data": {
      "image/png": "[encoded data removed]",
      "text/plain": [
       "<Figure size 1080x720 with 1 Axes>"
      ]
     },
     "metadata": {
      "needs_background": "light"
     },
     "output_type": "display_data"
    }
   ],
   "source": [
    "plt.rcParams[\"figure.figsize\"] = (15,10)\n",
    "DF['Arrondissement'].value_counts().plot.bar()"
   ]
  },
  {
   "cell_type": "code",
   "execution_count": 40,
   "metadata": {},
   "outputs": [
    {
     "data": {
      "text/plain": [
       "<AxesSubplot:>"
      ]
     },
     "execution_count": 40,
     "metadata": {},
     "output_type": "execute_result"
    },
    {
     "data": {
      "image/png": "[encoded data removed]",
      "text/plain": [
       "<Figure size 1080x720 with 1 Axes>"
      ]
     },
     "metadata": {
      "needs_background": "light"
     },
     "output_type": "display_data"
    }
   ],
   "source": [
    "plt.rcParams[\"figure.figsize\"] = (15,10)\n",
    "DF['Avancement_du_projet'].value_counts().plot.bar()"
   ]
  },
  {
   "cell_type": "code",
   "execution_count": 59,
   "metadata": {},
   "outputs": [
    {
     "data": {
      "text/html": [
       "<div>\n",
       "<style scoped>\n",
       "    .dataframe tbody tr th:only-of-type {\n",
       "        vertical-align: middle;\n",
       "    }\n",
       "\n",
       "    .dataframe tbody tr th {\n",
       "        vertical-align: top;\n",
       "    }\n",
       "\n",
       "    .dataframe thead th {\n",
       "        text-align: right;\n",
       "    }\n",
       "</style>\n",
       "<table border=\"1\" class=\"dataframe\">\n",
       "  <thead>\n",
       "    <tr style=\"text-align: right;\">\n",
       "      <th></th>\n",
       "      <th>Arrondissement</th>\n",
       "      <th>Proposition_non_réalisable</th>\n",
       "      <th>Type_de_végétalisation</th>\n",
       "      <th>Etat_de_la_proposition</th>\n",
       "      <th>Avancement_du_projet</th>\n",
       "    </tr>\n",
       "  </thead>\n",
       "  <tbody>\n",
       "    <tr>\n",
       "      <th>0</th>\n",
       "      <td>75002</td>\n",
       "      <td>la proposition n'a pas été retenue car aucun m...</td>\n",
       "      <td>Mur végétalisé</td>\n",
       "      <td>Propositions non réalisables techniquement</td>\n",
       "      <td>-</td>\n",
       "    </tr>\n",
       "    <tr>\n",
       "      <th>1</th>\n",
       "      <td>75011</td>\n",
       "      <td>-</td>\n",
       "      <td>Végétalisation pied arbre</td>\n",
       "      <td>proposition réalisable et retenue dans les 200...</td>\n",
       "      <td>Réalisé</td>\n",
       "    </tr>\n",
       "    <tr>\n",
       "      <th>2</th>\n",
       "      <td>75002</td>\n",
       "      <td>la proposition n'a pas été retenue car le trot...</td>\n",
       "      <td>Plantation d?arbre</td>\n",
       "      <td>Propositions non réalisables techniquement</td>\n",
       "      <td>-</td>\n",
       "    </tr>\n",
       "    <tr>\n",
       "      <th>3</th>\n",
       "      <td>75009</td>\n",
       "      <td>la proposition n'a pas été retenue car elle co...</td>\n",
       "      <td>Autre proposition</td>\n",
       "      <td>Propositions non réalisables techniquement</td>\n",
       "      <td>-</td>\n",
       "    </tr>\n",
       "    <tr>\n",
       "      <th>4</th>\n",
       "      <td>75010</td>\n",
       "      <td>la proposition n'a pas été retenue car l'espac...</td>\n",
       "      <td>Jardinière en pleine terre</td>\n",
       "      <td>Propositions non réalisables techniquement</td>\n",
       "      <td>-</td>\n",
       "    </tr>\n",
       "  </tbody>\n",
       "</table>\n",
       "</div>"
      ],
      "text/plain": [
       "   Arrondissement                         Proposition_non_réalisable  \\\n",
       "0           75002  la proposition n'a pas été retenue car aucun m...   \n",
       "1           75011                                                  -   \n",
       "2           75002  la proposition n'a pas été retenue car le trot...   \n",
       "3           75009  la proposition n'a pas été retenue car elle co...   \n",
       "4           75010  la proposition n'a pas été retenue car l'espac...   \n",
       "\n",
       "       Type_de_végétalisation  \\\n",
       "0              Mur végétalisé   \n",
       "1   Végétalisation pied arbre   \n",
       "2          Plantation d?arbre   \n",
       "3           Autre proposition   \n",
       "4  Jardinière en pleine terre   \n",
       "\n",
       "                              Etat_de_la_proposition Avancement_du_projet  \n",
       "0         Propositions non réalisables techniquement                    -  \n",
       "1  proposition réalisable et retenue dans les 200...              Réalisé  \n",
       "2         Propositions non réalisables techniquement                    -  \n",
       "3         Propositions non réalisables techniquement                    -  \n",
       "4         Propositions non réalisables techniquement                    -  "
      ]
     },
     "execution_count": 59,
     "metadata": {},
     "output_type": "execute_result"
    }
   ],
   "source": [
    "# Suppression des variables \"Geo point\",\"Geo shape\" et \"Numéro de projet\" car ils représentent autant d'informations que la variable \"Adresse\"\n",
    "# Suppression de la variable \"Avancement du projet\" car elle constitue une autre variable expliquée. \n",
    "DF1 = DF.drop([\"Geo_Point\",\"Geo_Shape\",\"Numéro\",\"Adresse\",\"Commentaitre_accompagnant_la_proposition\"], axis=1)\n",
    "DF1.head()"
   ]
  },
  {
   "cell_type": "code",
   "execution_count": 42,
   "metadata": {},
   "outputs": [
    {
     "name": "stdout",
     "output_type": "stream",
     "text": [
      "(1596, 6)\n"
     ]
    },
    {
     "data": {
      "text/html": [
       "<div>\n",
       "<style scoped>\n",
       "    .dataframe tbody tr th:only-of-type {\n",
       "        vertical-align: middle;\n",
       "    }\n",
       "\n",
       "    .dataframe tbody tr th {\n",
       "        vertical-align: top;\n",
       "    }\n",
       "\n",
       "    .dataframe thead th {\n",
       "        text-align: right;\n",
       "    }\n",
       "</style>\n",
       "<table border=\"1\" class=\"dataframe\">\n",
       "  <thead>\n",
       "    <tr style=\"text-align: right;\">\n",
       "      <th></th>\n",
       "      <th>Arrondissement</th>\n",
       "      <th>Adresse</th>\n",
       "      <th>Proposition_non_réalisable</th>\n",
       "      <th>Type_de_végétalisation</th>\n",
       "      <th>Etat_de_la_proposition</th>\n",
       "      <th>Commentaitre_accompagnant_la_proposition</th>\n",
       "    </tr>\n",
       "  </thead>\n",
       "  <tbody>\n",
       "    <tr>\n",
       "      <th>0</th>\n",
       "      <td>75002</td>\n",
       "      <td>20  Rue Beauregard</td>\n",
       "      <td>la proposition n'a pas été retenue car aucun m...</td>\n",
       "      <td>Mur végétalisé</td>\n",
       "      <td>Propositions non réalisables techniquement</td>\n",
       "      <td>pas de commentaires</td>\n",
       "    </tr>\n",
       "    <tr>\n",
       "      <th>1</th>\n",
       "      <td>75011</td>\n",
       "      <td>161 rue saint maur</td>\n",
       "      <td>-</td>\n",
       "      <td>Végétalisation pied arbre</td>\n",
       "      <td>proposition réalisable et retenue dans les 200...</td>\n",
       "      <td>-</td>\n",
       "    </tr>\n",
       "    <tr>\n",
       "      <th>2</th>\n",
       "      <td>75002</td>\n",
       "      <td>Rue Sainte-Apolline</td>\n",
       "      <td>la proposition n'a pas été retenue car le trot...</td>\n",
       "      <td>Plantation d?arbre</td>\n",
       "      <td>Propositions non réalisables techniquement</td>\n",
       "      <td>Un peu de verdure</td>\n",
       "    </tr>\n",
       "    <tr>\n",
       "      <th>3</th>\n",
       "      <td>75009</td>\n",
       "      <td>9  Rue Cadet</td>\n",
       "      <td>la proposition n'a pas été retenue car elle co...</td>\n",
       "      <td>Autre proposition</td>\n",
       "      <td>Propositions non réalisables techniquement</td>\n",
       "      <td>Dans le cadre de la campagne du vert près de c...</td>\n",
       "    </tr>\n",
       "    <tr>\n",
       "      <th>4</th>\n",
       "      <td>75010</td>\n",
       "      <td>5  Cour de la Ferme Saint-Lazare</td>\n",
       "      <td>la proposition n'a pas été retenue car l'espac...</td>\n",
       "      <td>Jardinière en pleine terre</td>\n",
       "      <td>Propositions non réalisables techniquement</td>\n",
       "      <td>Un pry de verdure . Car il en manque. La dispo...</td>\n",
       "    </tr>\n",
       "  </tbody>\n",
       "</table>\n",
       "</div>"
      ],
      "text/plain": [
       "   Arrondissement                           Adresse  \\\n",
       "0           75002                20  Rue Beauregard   \n",
       "1           75011                161 rue saint maur   \n",
       "2           75002               Rue Sainte-Apolline   \n",
       "3           75009                      9  Rue Cadet   \n",
       "4           75010  5  Cour de la Ferme Saint-Lazare   \n",
       "\n",
       "                          Proposition_non_réalisable  \\\n",
       "0  la proposition n'a pas été retenue car aucun m...   \n",
       "1                                                  -   \n",
       "2  la proposition n'a pas été retenue car le trot...   \n",
       "3  la proposition n'a pas été retenue car elle co...   \n",
       "4  la proposition n'a pas été retenue car l'espac...   \n",
       "\n",
       "       Type_de_végétalisation  \\\n",
       "0              Mur végétalisé   \n",
       "1   Végétalisation pied arbre   \n",
       "2          Plantation d?arbre   \n",
       "3           Autre proposition   \n",
       "4  Jardinière en pleine terre   \n",
       "\n",
       "                              Etat_de_la_proposition  \\\n",
       "0         Propositions non réalisables techniquement   \n",
       "1  proposition réalisable et retenue dans les 200...   \n",
       "2         Propositions non réalisables techniquement   \n",
       "3         Propositions non réalisables techniquement   \n",
       "4         Propositions non réalisables techniquement   \n",
       "\n",
       "            Commentaitre_accompagnant_la_proposition  \n",
       "0                                pas de commentaires  \n",
       "1                                                  -  \n",
       "2                                  Un peu de verdure  \n",
       "3  Dans le cadre de la campagne du vert près de c...  \n",
       "4  Un pry de verdure . Car il en manque. La dispo...  "
      ]
     },
     "execution_count": 42,
     "metadata": {},
     "output_type": "execute_result"
    }
   ],
   "source": [
    "DF2=DF1.dropna(subset = ['Proposition_non_réalisable', 'Type_de_végétalisation', 'Etat_de_la_proposition','Adresse',]) \n",
    "print(DF2.shape)\n",
    "DF2.head()\n",
    "# lES NaN de \"proposition_non-réalisable\", \"Type_de_végétalisation\" et\"Etat_de_la_proposition\" se trouvent sur les mêmes lignes. Elles concerenent 4 modalités sur 1604, nous avons décidé de les supprimer puisqu'elles ne sont pas significatives. "
   ]
  },
  {
   "cell_type": "markdown",
   "metadata": {},
   "source": [
    "# Partie 3 : Analyser \" Proposition non réalisable\" et décrire comment est ce qu'elle pourrait dépendre des autres variables."
   ]
  },
  {
   "cell_type": "code",
   "execution_count": 43,
   "metadata": {},
   "outputs": [],
   "source": [
    "def label_fix(label):\n",
    "    if label=='-' :\n",
    "        return 1\n",
    "    else:\n",
    "        return 0"
   ]
  },
  {
   "cell_type": "code",
   "execution_count": 44,
   "metadata": {},
   "outputs": [
    {
     "data": {
      "text/html": [
       "<div>\n",
       "<style scoped>\n",
       "    .dataframe tbody tr th:only-of-type {\n",
       "        vertical-align: middle;\n",
       "    }\n",
       "\n",
       "    .dataframe tbody tr th {\n",
       "        vertical-align: top;\n",
       "    }\n",
       "\n",
       "    .dataframe thead th {\n",
       "        text-align: right;\n",
       "    }\n",
       "</style>\n",
       "<table border=\"1\" class=\"dataframe\">\n",
       "  <thead>\n",
       "    <tr style=\"text-align: right;\">\n",
       "      <th></th>\n",
       "      <th>Arrondissement</th>\n",
       "      <th>Adresse</th>\n",
       "      <th>Proposition_non_réalisable</th>\n",
       "      <th>Type_de_végétalisation</th>\n",
       "      <th>Etat_de_la_proposition</th>\n",
       "      <th>Commentaitre_accompagnant_la_proposition</th>\n",
       "    </tr>\n",
       "  </thead>\n",
       "  <tbody>\n",
       "    <tr>\n",
       "      <th>0</th>\n",
       "      <td>75002</td>\n",
       "      <td>20  Rue Beauregard</td>\n",
       "      <td>0</td>\n",
       "      <td>Mur végétalisé</td>\n",
       "      <td>Propositions non réalisables techniquement</td>\n",
       "      <td>pas de commentaires</td>\n",
       "    </tr>\n",
       "    <tr>\n",
       "      <th>1</th>\n",
       "      <td>75011</td>\n",
       "      <td>161 rue saint maur</td>\n",
       "      <td>1</td>\n",
       "      <td>Végétalisation pied arbre</td>\n",
       "      <td>proposition réalisable et retenue dans les 200...</td>\n",
       "      <td>-</td>\n",
       "    </tr>\n",
       "    <tr>\n",
       "      <th>2</th>\n",
       "      <td>75002</td>\n",
       "      <td>Rue Sainte-Apolline</td>\n",
       "      <td>0</td>\n",
       "      <td>Plantation d?arbre</td>\n",
       "      <td>Propositions non réalisables techniquement</td>\n",
       "      <td>Un peu de verdure</td>\n",
       "    </tr>\n",
       "    <tr>\n",
       "      <th>3</th>\n",
       "      <td>75009</td>\n",
       "      <td>9  Rue Cadet</td>\n",
       "      <td>0</td>\n",
       "      <td>Autre proposition</td>\n",
       "      <td>Propositions non réalisables techniquement</td>\n",
       "      <td>Dans le cadre de la campagne du vert près de c...</td>\n",
       "    </tr>\n",
       "    <tr>\n",
       "      <th>4</th>\n",
       "      <td>75010</td>\n",
       "      <td>5  Cour de la Ferme Saint-Lazare</td>\n",
       "      <td>0</td>\n",
       "      <td>Jardinière en pleine terre</td>\n",
       "      <td>Propositions non réalisables techniquement</td>\n",
       "      <td>Un pry de verdure . Car il en manque. La dispo...</td>\n",
       "    </tr>\n",
       "  </tbody>\n",
       "</table>\n",
       "</div>"
      ],
      "text/plain": [
       "   Arrondissement                           Adresse  \\\n",
       "0           75002                20  Rue Beauregard   \n",
       "1           75011                161 rue saint maur   \n",
       "2           75002               Rue Sainte-Apolline   \n",
       "3           75009                      9  Rue Cadet   \n",
       "4           75010  5  Cour de la Ferme Saint-Lazare   \n",
       "\n",
       "   Proposition_non_réalisable      Type_de_végétalisation  \\\n",
       "0                           0              Mur végétalisé   \n",
       "1                           1   Végétalisation pied arbre   \n",
       "2                           0          Plantation d?arbre   \n",
       "3                           0           Autre proposition   \n",
       "4                           0  Jardinière en pleine terre   \n",
       "\n",
       "                              Etat_de_la_proposition  \\\n",
       "0         Propositions non réalisables techniquement   \n",
       "1  proposition réalisable et retenue dans les 200...   \n",
       "2         Propositions non réalisables techniquement   \n",
       "3         Propositions non réalisables techniquement   \n",
       "4         Propositions non réalisables techniquement   \n",
       "\n",
       "            Commentaitre_accompagnant_la_proposition  \n",
       "0                                pas de commentaires  \n",
       "1                                                  -  \n",
       "2                                  Un peu de verdure  \n",
       "3  Dans le cadre de la campagne du vert près de c...  \n",
       "4  Un pry de verdure . Car il en manque. La dispo...  "
      ]
     },
     "execution_count": 44,
     "metadata": {},
     "output_type": "execute_result"
    }
   ],
   "source": [
    "#Encodage de la variable 'Proposition non réalisable'\n",
    "DF2['Proposition_non_réalisable'] = DF2['Proposition_non_réalisable'].apply(label_fix)\n",
    "DF2.head()"
   ]
  },
  {
   "cell_type": "code",
   "execution_count": 45,
   "metadata": {},
   "outputs": [
    {
     "data": {
      "text/html": [
       "<div>\n",
       "<style scoped>\n",
       "    .dataframe tbody tr th:only-of-type {\n",
       "        vertical-align: middle;\n",
       "    }\n",
       "\n",
       "    .dataframe tbody tr th {\n",
       "        vertical-align: top;\n",
       "    }\n",
       "\n",
       "    .dataframe thead th {\n",
       "        text-align: right;\n",
       "    }\n",
       "</style>\n",
       "<table border=\"1\" class=\"dataframe\">\n",
       "  <thead>\n",
       "    <tr style=\"text-align: right;\">\n",
       "      <th></th>\n",
       "      <th>Arrondissement</th>\n",
       "      <th>Adresse</th>\n",
       "      <th>Proposition_non_réalisable</th>\n",
       "      <th>Type_de_végétalisation</th>\n",
       "      <th>Etat_de_la_proposition</th>\n",
       "      <th>Commentaitre_accompagnant_la_proposition</th>\n",
       "    </tr>\n",
       "  </thead>\n",
       "  <tbody>\n",
       "    <tr>\n",
       "      <th>0</th>\n",
       "      <td>0</td>\n",
       "      <td>0</td>\n",
       "      <td>1</td>\n",
       "      <td>0</td>\n",
       "      <td>1</td>\n",
       "      <td>0</td>\n",
       "    </tr>\n",
       "    <tr>\n",
       "      <th>1</th>\n",
       "      <td>0</td>\n",
       "      <td>0</td>\n",
       "      <td>0</td>\n",
       "      <td>0</td>\n",
       "      <td>0</td>\n",
       "      <td>0</td>\n",
       "    </tr>\n",
       "    <tr>\n",
       "      <th>2</th>\n",
       "      <td>0</td>\n",
       "      <td>0</td>\n",
       "      <td>1</td>\n",
       "      <td>0</td>\n",
       "      <td>1</td>\n",
       "      <td>0</td>\n",
       "    </tr>\n",
       "    <tr>\n",
       "      <th>3</th>\n",
       "      <td>0</td>\n",
       "      <td>0</td>\n",
       "      <td>1</td>\n",
       "      <td>1</td>\n",
       "      <td>1</td>\n",
       "      <td>0</td>\n",
       "    </tr>\n",
       "    <tr>\n",
       "      <th>4</th>\n",
       "      <td>0</td>\n",
       "      <td>0</td>\n",
       "      <td>1</td>\n",
       "      <td>0</td>\n",
       "      <td>1</td>\n",
       "      <td>0</td>\n",
       "    </tr>\n",
       "    <tr>\n",
       "      <th>...</th>\n",
       "      <td>...</td>\n",
       "      <td>...</td>\n",
       "      <td>...</td>\n",
       "      <td>...</td>\n",
       "      <td>...</td>\n",
       "      <td>...</td>\n",
       "    </tr>\n",
       "    <tr>\n",
       "      <th>1600</th>\n",
       "      <td>0</td>\n",
       "      <td>0</td>\n",
       "      <td>0</td>\n",
       "      <td>0</td>\n",
       "      <td>0</td>\n",
       "      <td>0</td>\n",
       "    </tr>\n",
       "    <tr>\n",
       "      <th>1601</th>\n",
       "      <td>0</td>\n",
       "      <td>0</td>\n",
       "      <td>1</td>\n",
       "      <td>0</td>\n",
       "      <td>1</td>\n",
       "      <td>0</td>\n",
       "    </tr>\n",
       "    <tr>\n",
       "      <th>1602</th>\n",
       "      <td>0</td>\n",
       "      <td>0</td>\n",
       "      <td>0</td>\n",
       "      <td>0</td>\n",
       "      <td>0</td>\n",
       "      <td>0</td>\n",
       "    </tr>\n",
       "    <tr>\n",
       "      <th>1603</th>\n",
       "      <td>0</td>\n",
       "      <td>0</td>\n",
       "      <td>0</td>\n",
       "      <td>0</td>\n",
       "      <td>0</td>\n",
       "      <td>0</td>\n",
       "    </tr>\n",
       "    <tr>\n",
       "      <th>1604</th>\n",
       "      <td>0</td>\n",
       "      <td>0</td>\n",
       "      <td>1</td>\n",
       "      <td>0</td>\n",
       "      <td>1</td>\n",
       "      <td>0</td>\n",
       "    </tr>\n",
       "  </tbody>\n",
       "</table>\n",
       "<p>1596 rows × 6 columns</p>\n",
       "</div>"
      ],
      "text/plain": [
       "      Arrondissement  Adresse  Proposition_non_réalisable  \\\n",
       "0                  0        0                           1   \n",
       "1                  0        0                           0   \n",
       "2                  0        0                           1   \n",
       "3                  0        0                           1   \n",
       "4                  0        0                           1   \n",
       "...              ...      ...                         ...   \n",
       "1600               0        0                           0   \n",
       "1601               0        0                           1   \n",
       "1602               0        0                           0   \n",
       "1603               0        0                           0   \n",
       "1604               0        0                           1   \n",
       "\n",
       "      Type_de_végétalisation  Etat_de_la_proposition  \\\n",
       "0                          0                       1   \n",
       "1                          0                       0   \n",
       "2                          0                       1   \n",
       "3                          1                       1   \n",
       "4                          0                       1   \n",
       "...                      ...                     ...   \n",
       "1600                       0                       0   \n",
       "1601                       0                       1   \n",
       "1602                       0                       0   \n",
       "1603                       0                       0   \n",
       "1604                       0                       1   \n",
       "\n",
       "      Commentaitre_accompagnant_la_proposition  \n",
       "0                                            0  \n",
       "1                                            0  \n",
       "2                                            0  \n",
       "3                                            0  \n",
       "4                                            0  \n",
       "...                                        ...  \n",
       "1600                                         0  \n",
       "1601                                         0  \n",
       "1602                                         0  \n",
       "1603                                         0  \n",
       "1604                                         0  \n",
       "\n",
       "[1596 rows x 6 columns]"
      ]
     },
     "execution_count": 45,
     "metadata": {},
     "output_type": "execute_result"
    }
   ],
   "source": [
    "#Encodage des variable\n",
    "for col in DF2.columns:\n",
    "    DF2[col] = pd.get_dummies(DF2[col])\n",
    "DF2"
   ]
  },
  {
   "cell_type": "code",
   "execution_count": 46,
   "metadata": {},
   "outputs": [
    {
     "data": {
      "image/png": "[encoded data removed]",
      "text/plain": [
       "<Figure size 720x576 with 2 Axes>"
      ]
     },
     "metadata": {
      "needs_background": "light"
     },
     "output_type": "display_data"
    }
   ],
   "source": [
    "# correlation entre les variables\n",
    "DF2Dummies = pd.get_dummies(DF2)\n",
    "plt.figure(figsize=(10,8))\n",
    "cor = DF2.corr()\n",
    "sns.heatmap(DF2Dummies.corr(),linewidths=.1,cmap=\"YlGnBu\", annot=True)\n",
    "plt.yticks(rotation=0);"
   ]
  },
  {
   "cell_type": "code",
   "execution_count": 47,
   "metadata": {},
   "outputs": [
    {
     "data": {
      "text/plain": [
       "Proposition_non_réalisable    1.000000\n",
       "Type_de_végétalisation        0.273861\n",
       "Etat_de_la_proposition        1.000000\n",
       "Name: Proposition_non_réalisable, dtype: float64"
      ]
     },
     "execution_count": 47,
     "metadata": {},
     "output_type": "execute_result"
    }
   ],
   "source": [
    "#Correlation avec la variable de sortie\n",
    "cor_target = abs(cor[\"Proposition_non_réalisable\"])\n",
    "#Selecting highly correlated features\n",
    "relevant_features = cor_target[cor_target>0.05]\n",
    "relevant_features"
   ]
  },
  {
   "cell_type": "code",
   "execution_count": 48,
   "metadata": {},
   "outputs": [
    {
     "name": "stdout",
     "output_type": "stream",
     "text": [
      "Requirement already satisfied: researchpy in c:\\users\\33661\\anaconda3\\lib\\site-packages (0.3.2)\n",
      "Requirement already satisfied: scipy in c:\\users\\33661\\anaconda3\\lib\\site-packages (from researchpy) (1.5.2)\n",
      "Requirement already satisfied: statsmodels in c:\\users\\33661\\anaconda3\\lib\\site-packages (from researchpy) (0.12.0)\n",
      "Requirement already satisfied: pandas in c:\\users\\33661\\anaconda3\\lib\\site-packages (from researchpy) (1.1.3)\n",
      "Requirement already satisfied: numpy in c:\\users\\33661\\anaconda3\\lib\\site-packages (from researchpy) (1.19.2)\n",
      "Requirement already satisfied: patsy in c:\\users\\33661\\anaconda3\\lib\\site-packages (from researchpy) (0.5.1)\n",
      "Requirement already satisfied: python-dateutil>=2.7.3 in c:\\users\\33661\\anaconda3\\lib\\site-packages (from pandas->researchpy) (2.8.1)\n",
      "Requirement already satisfied: pytz>=2017.2 in c:\\users\\33661\\anaconda3\\lib\\site-packages (from pandas->researchpy) (2020.1)\n",
      "Requirement already satisfied: six in c:\\users\\33661\\anaconda3\\lib\\site-packages (from patsy->researchpy) (1.15.0)\n"
     ]
    }
   ],
   "source": [
    "!pip install researchpy\n",
    "import researchpy   # https://researchpy.readthedocs.io/"
   ]
  },
  {
   "cell_type": "code",
   "execution_count": 49,
   "metadata": {},
   "outputs": [
    {
     "name": "stdout",
     "output_type": "stream",
     "text": [
      "H0:Les variables sont indépendantes \n",
      "H1:Les variables sont dépendantes \n",
      "\n",
      "\n",
      "Arrondissement / Proposition_non_réalisable\n",
      "\n",
      "Tableau de contingence \n",
      "                           Proposition_non_réalisable             \n",
      "Proposition_non_réalisable                          0            1\n",
      "Arrondissement                                                    \n",
      "0                                          496.880952  1061.119048\n",
      "1                                           12.119048    25.880952 \n",
      "\n",
      "                 Chi-square test  results\n",
      "0  Pearson Chi-square ( 1.0) =    0.5573\n",
      "1                    p-value =    0.4554\n",
      "2               Cramer's phi =    0.0187,\n",
      "\n",
      "\n",
      "\n",
      "\n",
      "Adresse / Proposition_non_réalisable\n",
      "\n",
      "Tableau de contingence \n",
      "                           Proposition_non_réalisable             \n",
      "Proposition_non_réalisable                          0            1\n",
      "Adresse                                                           \n",
      "0                                          508.681078  1086.318922\n",
      "1                                            0.318922     0.681078 \n",
      "\n",
      "                 Chi-square test  results\n",
      "0  Pearson Chi-square ( 1.0) =    0.4686\n",
      "1                    p-value =    0.4937\n",
      "2               Cramer's phi =    0.0171,\n",
      "\n",
      "\n",
      "\n",
      "\n",
      "Type_de_végétalisation / Proposition_non_réalisable\n",
      "\n",
      "Tableau de contingence \n",
      "                           Proposition_non_réalisable            \n",
      "Proposition_non_réalisable                          0           1\n",
      "Type_de_végétalisation                                           \n",
      "0                                          435.328947  929.671053\n",
      "1                                           73.671053  157.328947 \n",
      "\n",
      "                 Chi-square test   results\n",
      "0  Pearson Chi-square ( 1.0) =   119.7000\n",
      "1                    p-value =     0.0000\n",
      "2               Cramer's phi =     0.2739,\n",
      "\n",
      "\n",
      "\n",
      "\n",
      "Etat_de_la_proposition / Proposition_non_réalisable\n",
      "\n",
      "Tableau de contingence \n",
      "                           Proposition_non_réalisable            \n",
      "Proposition_non_réalisable                          0           1\n",
      "Etat_de_la_proposition                                           \n",
      "0                                          162.331454  346.668546\n",
      "1                                          346.668546  740.331454 \n",
      "\n",
      "                 Chi-square test  results\n",
      "0  Pearson Chi-square ( 1.0) =    1596.0\n",
      "1                    p-value =       0.0\n",
      "2               Cramer's phi =       1.0,\n",
      "\n",
      "\n",
      "\n",
      "\n",
      "Commentaitre_accompagnant_la_proposition / Proposition_non_réalisable\n",
      "\n",
      "Tableau de contingence \n",
      "                                         Proposition_non_réalisable  \\\n",
      "Proposition_non_réalisable                                        0   \n",
      "Commentaitre_accompagnant_la_proposition                              \n",
      "0                                                        508.681078   \n",
      "1                                                          0.318922   \n",
      "\n",
      "                                                       \n",
      "Proposition_non_réalisable                          1  \n",
      "Commentaitre_accompagnant_la_proposition               \n",
      "0                                         1086.318922  \n",
      "1                                            0.681078   \n",
      "\n",
      "                 Chi-square test  results\n",
      "0  Pearson Chi-square ( 1.0) =    0.4686\n",
      "1                    p-value =    0.4937\n",
      "2               Cramer's phi =    0.0171,\n",
      "\n",
      "\n",
      "\n",
      "\n"
     ]
    }
   ],
   "source": [
    "# boucle pour le test de Khi 2\n",
    "print(\"H0:Les variables sont indépendantes \\nH1:Les variables sont dépendantes \\n\\n\")\n",
    "for i in DF2.columns:\n",
    "  if i != 'Proposition_non_réalisable' and i!='id':\n",
    "    crosstab, res, exp = researchpy.crosstab(DF2[i], DF2['Proposition_non_réalisable'], test='chi-square', expected_freqs=True)\n",
    "    print(f\"{i} / Proposition_non_réalisable\\n\")\n",
    "    print(f\"Tableau de contingence \\n{exp} \\n\\n {res},\")\n",
    "    print(\"\\n\\n\\n\")"
   ]
  },
  {
   "cell_type": "markdown",
   "metadata": {},
   "source": [
    "- Nous allons divisé cette partie en deux étapes : La premiére étape concerne la corrélation de toutes les variables entre elles. Cela nous permet de voir concrétement les coefficients de corrélation de la variable \"Proposition_non_réalisable\" avec toutes les autres variables. La seconde étape consiste à mettre en évidence la corrélation entre notre Target qui est \"proposition non réalisation\" et certaines variables explicatives à travers un tableau de contingence et un test Chi_2     "
   ]
  },
  {
   "cell_type": "markdown",
   "metadata": {},
   "source": [
    "# Partie 4 : Modéle"
   ]
  },
  {
   "cell_type": "code",
   "execution_count": 50,
   "metadata": {},
   "outputs": [],
   "source": [
    "from sklearn.model_selection import train_test_split\n",
    "X = DF2[['Type_de_végétalisation']]\n",
    "Y = DF2['Proposition_non_réalisable']"
   ]
  },
  {
   "cell_type": "code",
   "execution_count": 51,
   "metadata": {},
   "outputs": [
    {
     "data": {
      "text/html": [
       "<div>\n",
       "<style scoped>\n",
       "    .dataframe tbody tr th:only-of-type {\n",
       "        vertical-align: middle;\n",
       "    }\n",
       "\n",
       "    .dataframe tbody tr th {\n",
       "        vertical-align: top;\n",
       "    }\n",
       "\n",
       "    .dataframe thead th {\n",
       "        text-align: right;\n",
       "    }\n",
       "</style>\n",
       "<table border=\"1\" class=\"dataframe\">\n",
       "  <thead>\n",
       "    <tr style=\"text-align: right;\">\n",
       "      <th></th>\n",
       "      <th>Type_de_végétalisation</th>\n",
       "    </tr>\n",
       "  </thead>\n",
       "  <tbody>\n",
       "    <tr>\n",
       "      <th>263</th>\n",
       "      <td>0</td>\n",
       "    </tr>\n",
       "    <tr>\n",
       "      <th>1168</th>\n",
       "      <td>0</td>\n",
       "    </tr>\n",
       "    <tr>\n",
       "      <th>1491</th>\n",
       "      <td>0</td>\n",
       "    </tr>\n",
       "    <tr>\n",
       "      <th>352</th>\n",
       "      <td>1</td>\n",
       "    </tr>\n",
       "    <tr>\n",
       "      <th>1452</th>\n",
       "      <td>0</td>\n",
       "    </tr>\n",
       "    <tr>\n",
       "      <th>...</th>\n",
       "      <td>...</td>\n",
       "    </tr>\n",
       "    <tr>\n",
       "      <th>551</th>\n",
       "      <td>0</td>\n",
       "    </tr>\n",
       "    <tr>\n",
       "      <th>1314</th>\n",
       "      <td>1</td>\n",
       "    </tr>\n",
       "    <tr>\n",
       "      <th>1250</th>\n",
       "      <td>0</td>\n",
       "    </tr>\n",
       "    <tr>\n",
       "      <th>405</th>\n",
       "      <td>0</td>\n",
       "    </tr>\n",
       "    <tr>\n",
       "      <th>1517</th>\n",
       "      <td>0</td>\n",
       "    </tr>\n",
       "  </tbody>\n",
       "</table>\n",
       "<p>1117 rows × 1 columns</p>\n",
       "</div>"
      ],
      "text/plain": [
       "      Type_de_végétalisation\n",
       "263                        0\n",
       "1168                       0\n",
       "1491                       0\n",
       "352                        1\n",
       "1452                       0\n",
       "...                      ...\n",
       "551                        0\n",
       "1314                       1\n",
       "1250                       0\n",
       "405                        0\n",
       "1517                       0\n",
       "\n",
       "[1117 rows x 1 columns]"
      ]
     },
     "execution_count": 51,
     "metadata": {},
     "output_type": "execute_result"
    }
   ],
   "source": [
    "# Découper le dataset en : train et test \n",
    "\n",
    "X_train, X_test, y_train, y_test = train_test_split(X,Y,test_size =0.3)\n",
    "# print the data\n",
    "X_train"
   ]
  },
  {
   "cell_type": "code",
   "execution_count": 52,
   "metadata": {},
   "outputs": [],
   "source": [
    "#Entrainer le modèle de ml sur le train et test\n",
    "from sklearn.linear_model import LinearRegression\n",
    "clf = LinearRegression()"
   ]
  },
  {
   "cell_type": "code",
   "execution_count": 53,
   "metadata": {},
   "outputs": [
    {
     "data": {
      "text/plain": [
       "LinearRegression()"
      ]
     },
     "execution_count": 53,
     "metadata": {},
     "output_type": "execute_result"
    }
   ],
   "source": [
    "clf.fit(X_train,y_train)"
   ]
  },
  {
   "cell_type": "code",
   "execution_count": 54,
   "metadata": {},
   "outputs": [
    {
     "data": {
      "text/plain": [
       "array([0.6201469 , 0.6201469 , 0.6201469 , 0.6201469 , 0.6201469 ,\n",
       "       0.6201469 , 0.6201469 , 0.6201469 , 0.98780488, 0.6201469 ,\n",
       "       0.6201469 , 0.6201469 , 0.6201469 , 0.6201469 , 0.98780488,\n",
       "       0.98780488, 0.98780488, 0.6201469 , 0.98780488, 0.98780488,\n",
       "       0.98780488, 0.6201469 , 0.6201469 , 0.6201469 , 0.6201469 ,\n",
       "       0.6201469 , 0.6201469 , 0.6201469 , 0.6201469 , 0.6201469 ,\n",
       "       0.6201469 , 0.6201469 , 0.6201469 , 0.6201469 , 0.6201469 ,\n",
       "       0.6201469 , 0.6201469 , 0.6201469 , 0.6201469 , 0.6201469 ,\n",
       "       0.98780488, 0.6201469 , 0.6201469 , 0.6201469 , 0.6201469 ,\n",
       "       0.6201469 , 0.98780488, 0.6201469 , 0.6201469 , 0.6201469 ,\n",
       "       0.98780488, 0.6201469 , 0.98780488, 0.6201469 , 0.6201469 ,\n",
       "       0.6201469 , 0.6201469 , 0.98780488, 0.6201469 , 0.6201469 ,\n",
       "       0.98780488, 0.6201469 , 0.6201469 , 0.6201469 , 0.6201469 ,\n",
       "       0.6201469 , 0.6201469 , 0.6201469 , 0.98780488, 0.98780488,\n",
       "       0.6201469 , 0.6201469 , 0.6201469 , 0.6201469 , 0.98780488,\n",
       "       0.6201469 , 0.6201469 , 0.6201469 , 0.6201469 , 0.6201469 ,\n",
       "       0.6201469 , 0.6201469 , 0.6201469 , 0.6201469 , 0.6201469 ,\n",
       "       0.6201469 , 0.6201469 , 0.6201469 , 0.6201469 , 0.6201469 ,\n",
       "       0.6201469 , 0.6201469 , 0.6201469 , 0.6201469 , 0.6201469 ,\n",
       "       0.6201469 , 0.6201469 , 0.6201469 , 0.6201469 , 0.6201469 ,\n",
       "       0.6201469 , 0.6201469 , 0.6201469 , 0.6201469 , 0.6201469 ,\n",
       "       0.6201469 , 0.6201469 , 0.6201469 , 0.6201469 , 0.6201469 ,\n",
       "       0.6201469 , 0.6201469 , 0.6201469 , 0.6201469 , 0.6201469 ,\n",
       "       0.6201469 , 0.6201469 , 0.6201469 , 0.98780488, 0.98780488,\n",
       "       0.6201469 , 0.98780488, 0.6201469 , 0.98780488, 0.6201469 ,\n",
       "       0.6201469 , 0.98780488, 0.6201469 , 0.6201469 , 0.6201469 ,\n",
       "       0.6201469 , 0.6201469 , 0.6201469 , 0.6201469 , 0.98780488,\n",
       "       0.6201469 , 0.6201469 , 0.6201469 , 0.6201469 , 0.6201469 ,\n",
       "       0.6201469 , 0.6201469 , 0.6201469 , 0.6201469 , 0.6201469 ,\n",
       "       0.6201469 , 0.6201469 , 0.98780488, 0.6201469 , 0.6201469 ,\n",
       "       0.6201469 , 0.6201469 , 0.6201469 , 0.6201469 , 0.6201469 ,\n",
       "       0.6201469 , 0.6201469 , 0.6201469 , 0.6201469 , 0.6201469 ,\n",
       "       0.6201469 , 0.6201469 , 0.98780488, 0.6201469 , 0.6201469 ,\n",
       "       0.6201469 , 0.6201469 , 0.6201469 , 0.98780488, 0.6201469 ,\n",
       "       0.6201469 , 0.6201469 , 0.6201469 , 0.6201469 , 0.6201469 ,\n",
       "       0.6201469 , 0.6201469 , 0.6201469 , 0.6201469 , 0.98780488,\n",
       "       0.6201469 , 0.6201469 , 0.6201469 , 0.6201469 , 0.6201469 ,\n",
       "       0.6201469 , 0.6201469 , 0.6201469 , 0.6201469 , 0.6201469 ,\n",
       "       0.6201469 , 0.6201469 , 0.98780488, 0.6201469 , 0.6201469 ,\n",
       "       0.6201469 , 0.6201469 , 0.6201469 , 0.98780488, 0.6201469 ,\n",
       "       0.6201469 , 0.6201469 , 0.6201469 , 0.6201469 , 0.6201469 ,\n",
       "       0.6201469 , 0.6201469 , 0.6201469 , 0.98780488, 0.6201469 ,\n",
       "       0.6201469 , 0.6201469 , 0.98780488, 0.6201469 , 0.6201469 ,\n",
       "       0.6201469 , 0.6201469 , 0.98780488, 0.6201469 , 0.6201469 ,\n",
       "       0.6201469 , 0.6201469 , 0.6201469 , 0.6201469 , 0.6201469 ,\n",
       "       0.98780488, 0.6201469 , 0.6201469 , 0.6201469 , 0.6201469 ,\n",
       "       0.6201469 , 0.6201469 , 0.6201469 , 0.6201469 , 0.6201469 ,\n",
       "       0.98780488, 0.6201469 , 0.6201469 , 0.6201469 , 0.6201469 ,\n",
       "       0.6201469 , 0.6201469 , 0.98780488, 0.6201469 , 0.6201469 ,\n",
       "       0.6201469 , 0.6201469 , 0.6201469 , 0.6201469 , 0.6201469 ,\n",
       "       0.6201469 , 0.6201469 , 0.6201469 , 0.6201469 , 0.6201469 ,\n",
       "       0.6201469 , 0.98780488, 0.98780488, 0.98780488, 0.6201469 ,\n",
       "       0.6201469 , 0.6201469 , 0.6201469 , 0.6201469 , 0.6201469 ,\n",
       "       0.6201469 , 0.6201469 , 0.6201469 , 0.6201469 , 0.6201469 ,\n",
       "       0.6201469 , 0.6201469 , 0.6201469 , 0.6201469 , 0.6201469 ,\n",
       "       0.6201469 , 0.98780488, 0.6201469 , 0.6201469 , 0.6201469 ,\n",
       "       0.6201469 , 0.6201469 , 0.98780488, 0.6201469 , 0.98780488,\n",
       "       0.6201469 , 0.98780488, 0.6201469 , 0.6201469 , 0.6201469 ,\n",
       "       0.6201469 , 0.6201469 , 0.6201469 , 0.6201469 , 0.98780488,\n",
       "       0.6201469 , 0.98780488, 0.98780488, 0.6201469 , 0.6201469 ,\n",
       "       0.6201469 , 0.6201469 , 0.6201469 , 0.6201469 , 0.6201469 ,\n",
       "       0.6201469 , 0.6201469 , 0.6201469 , 0.6201469 , 0.98780488,\n",
       "       0.6201469 , 0.6201469 , 0.6201469 , 0.6201469 , 0.6201469 ,\n",
       "       0.98780488, 0.6201469 , 0.6201469 , 0.6201469 , 0.6201469 ,\n",
       "       0.6201469 , 0.6201469 , 0.6201469 , 0.6201469 , 0.6201469 ,\n",
       "       0.6201469 , 0.98780488, 0.6201469 , 0.6201469 , 0.6201469 ,\n",
       "       0.98780488, 0.6201469 , 0.6201469 , 0.98780488, 0.6201469 ,\n",
       "       0.6201469 , 0.6201469 , 0.6201469 , 0.6201469 , 0.98780488,\n",
       "       0.6201469 , 0.6201469 , 0.98780488, 0.6201469 , 0.6201469 ,\n",
       "       0.6201469 , 0.6201469 , 0.6201469 , 0.6201469 , 0.6201469 ,\n",
       "       0.6201469 , 0.6201469 , 0.6201469 , 0.6201469 , 0.6201469 ,\n",
       "       0.6201469 , 0.6201469 , 0.6201469 , 0.6201469 , 0.6201469 ,\n",
       "       0.6201469 , 0.6201469 , 0.6201469 , 0.6201469 , 0.6201469 ,\n",
       "       0.6201469 , 0.6201469 , 0.6201469 , 0.6201469 , 0.6201469 ,\n",
       "       0.6201469 , 0.6201469 , 0.6201469 , 0.6201469 , 0.6201469 ,\n",
       "       0.98780488, 0.6201469 , 0.98780488, 0.6201469 , 0.6201469 ,\n",
       "       0.6201469 , 0.6201469 , 0.6201469 , 0.6201469 , 0.6201469 ,\n",
       "       0.6201469 , 0.6201469 , 0.6201469 , 0.6201469 , 0.6201469 ,\n",
       "       0.6201469 , 0.6201469 , 0.6201469 , 0.6201469 , 0.6201469 ,\n",
       "       0.6201469 , 0.6201469 , 0.6201469 , 0.6201469 , 0.6201469 ,\n",
       "       0.6201469 , 0.6201469 , 0.6201469 , 0.6201469 , 0.6201469 ,\n",
       "       0.98780488, 0.6201469 , 0.6201469 , 0.98780488, 0.6201469 ,\n",
       "       0.6201469 , 0.6201469 , 0.6201469 , 0.6201469 , 0.6201469 ,\n",
       "       0.6201469 , 0.6201469 , 0.6201469 , 0.6201469 , 0.6201469 ,\n",
       "       0.98780488, 0.6201469 , 0.98780488, 0.6201469 , 0.6201469 ,\n",
       "       0.6201469 , 0.6201469 , 0.6201469 , 0.6201469 , 0.6201469 ,\n",
       "       0.6201469 , 0.6201469 , 0.6201469 , 0.98780488, 0.6201469 ,\n",
       "       0.6201469 , 0.6201469 , 0.98780488, 0.6201469 , 0.6201469 ,\n",
       "       0.98780488, 0.6201469 , 0.6201469 , 0.98780488, 0.6201469 ,\n",
       "       0.6201469 , 0.6201469 , 0.6201469 , 0.6201469 , 0.6201469 ,\n",
       "       0.6201469 , 0.6201469 , 0.6201469 , 0.98780488, 0.98780488,\n",
       "       0.6201469 , 0.98780488, 0.6201469 , 0.6201469 , 0.6201469 ,\n",
       "       0.6201469 , 0.6201469 , 0.6201469 , 0.98780488, 0.6201469 ,\n",
       "       0.6201469 , 0.98780488, 0.6201469 , 0.6201469 , 0.98780488,\n",
       "       0.6201469 , 0.6201469 , 0.6201469 , 0.6201469 , 0.6201469 ,\n",
       "       0.6201469 , 0.6201469 , 0.6201469 , 0.6201469 ])"
      ]
     },
     "execution_count": 54,
     "metadata": {},
     "output_type": "execute_result"
    }
   ],
   "source": [
    "clf.predict(X_test)"
   ]
  },
  {
   "cell_type": "code",
   "execution_count": 55,
   "metadata": {},
   "outputs": [
    {
     "data": {
      "text/plain": [
       "0.06732600720818482"
      ]
     },
     "execution_count": 55,
     "metadata": {},
     "output_type": "execute_result"
    }
   ],
   "source": [
    "clf.score(X_test,y_test)"
   ]
  }
 ],
 "metadata": {
  "celltoolbar": "Format de la Cellule Texte Brut",
  "kernelspec": {
   "display_name": "Python 3",
   "language": "python",
   "name": "python3"
  },
  "language_info": {
   "codemirror_mode": {
    "name": "ipython",
    "version": 3
   },
   "file_extension": ".py",
   "mimetype": "text/x-python",
   "name": "python",
   "nbconvert_exporter": "python",
   "pygments_lexer": "ipython3",
   "version": "3.8.5"
  }
 },
 "nbformat": 4,
 "nbformat_minor": 4
}
